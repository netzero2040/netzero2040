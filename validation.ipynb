{
 "cells": [
  {
   "cell_type": "markdown",
   "id": "9f55aee9",
   "metadata": {},
   "source": [
    "# Validation\n",
    "\n",
    "This notebook allows to easily check if a scenario conforms to the NetZero2040 project definitions."
   ]
  },
  {
   "cell_type": "code",
   "execution_count": null,
   "id": "c7c67806",
   "metadata": {},
   "outputs": [],
   "source": [
    "from workflow import main as workflow"
   ]
  },
  {
   "cell_type": "markdown",
   "id": "a675bf8d",
   "metadata": {},
   "source": [
    "Replace `<file>` by the name of the file that you want to validate."
   ]
  },
  {
   "cell_type": "code",
   "execution_count": null,
   "id": "111f9eeb",
   "metadata": {},
   "outputs": [],
   "source": [
    "workflow(\"<file>\")"
   ]
  },
  {
   "cell_type": "markdown",
   "id": "4fbf3852",
   "metadata": {},
   "source": [
    "If the function returns the overview of the scenario data, the validation was successful. Otherwise, please review the log."
   ]
  }
 ],
 "metadata": {
  "kernelspec": {
   "display_name": "Python 3 (ipykernel)",
   "language": "python",
   "name": "python3"
  },
  "language_info": {
   "codemirror_mode": {
    "name": "ipython",
    "version": 3
   },
   "file_extension": ".py",
   "mimetype": "text/x-python",
   "name": "python",
   "nbconvert_exporter": "python",
   "pygments_lexer": "ipython3",
   "version": "3.9.7"
  }
 },
 "nbformat": 4,
 "nbformat_minor": 5
}
